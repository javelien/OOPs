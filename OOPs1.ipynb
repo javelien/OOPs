{
  "nbformat": 4,
  "nbformat_minor": 0,
  "metadata": {
    "colab": {
      "provenance": []
    },
    "kernelspec": {
      "name": "python3",
      "display_name": "Python 3"
    },
    "language_info": {
      "name": "python"
    }
  },
  "cells": [
    {
      "cell_type": "code",
      "execution_count": null,
      "metadata": {
        "id": "Hx7UQFXij1Mg"
      },
      "outputs": [],
      "source": [
        "#Q1. what are the five key concepts of Object-oriented programming(oops)?\n",
        "# answer. Abstraction: Hiding complex implementation details and only showing the necessary information to the user. This simplifies interaction with objects and focuses on what an object does rather than how it does it.\n",
        "\n",
        "# Example: When you use a car, you don't need to know how the engine works internally, only how to operate the steering wheel, accelerator, and brakes. This simplifies your interaction with the car.\n",
        "# Encapsulation: Bundling data (attributes) and methods (functions) that operate on that data within a single unit called a class. This protects data integrity by controlling access to it.\n",
        "\n",
        "# Example: In a BankAccount class, the balance and account number can be encapsulated as private attributes, accessed and modified only through methods like deposit and withdrawal.\n",
        "# Inheritance: Creating new classes (child classes) from existing ones (parent classes). This promotes code reuse by inheriting properties and behaviors from the parent class and adding or modifying them as needed.\n",
        "\n",
        "# Example: You can create a SportsCar class that inherits from a Car class, inheriting common features like make, model, and year, while adding sports-car-specific attributes like turbocharged engines.\n",
        "# Polymorphism: The ability of objects to take on many forms. This allows different objects to respond to the same method call in their own way.\n",
        "\n",
        "# Example: A Shape class can have a draw() method, and subclasses like Circle and Rectangle can override this method to draw themselves differently.\n",
        "# Objects and Classes: Objects are instances of classes, which are blueprints for creating objects. Objects represent real-world entities, and classes define their properties and behaviors.\n",
        "\n",
        "# Example: A Car class defines the properties and behaviors of cars, and specific car objects (e.g., a Toyota Camry, a Honda Civic) are instances of this class.\n"
      ]
    },
    {
      "cell_type": "code",
      "source": [
        "#Q2. Write a Python class for a `Car` with attributes for `make`, `model`, and `year`. Include a method to display the car's information\n",
        "class Car:\n",
        "    def __init__(self, make, model, year):\n",
        "        \"\"\"Initializes a Car object.\n",
        "\n",
        "        Args:\n",
        "            make: The make of the car (e.g., \"Toyota\").\n",
        "            model: The model of the car (e.g., \"Camry\").\n",
        "            year: The year the car was manufactured.\n",
        "        \"\"\"\n",
        "        self.make = make\n",
        "        self.model = model\n",
        "        self.year = year\n",
        "\n",
        "    def display_info(self):\n",
        "        \"\"\"Displays the car's information.\"\"\"\n",
        "        print(f\"Make: {self.make}\")\n",
        "        print(f\"Model: {self.model}\")\n",
        "        print(f\"Year: {self.year}\")\n",
        "\n",
        "# Example usage:\n",
        "my_car = Car(\"Toyota\", \"Camry\", 2023)\n",
        "my_car.display_info()\n"
      ],
      "metadata": {
        "colab": {
          "base_uri": "https://localhost:8080/"
        },
        "id": "w_v_AlLJkC4e",
        "outputId": "1a95ea3d-d654-4a96-e80b-d05a4f8f2f0f"
      },
      "execution_count": null,
      "outputs": [
        {
          "output_type": "stream",
          "name": "stdout",
          "text": [
            "Make: Toyota\n",
            "Model: Camry\n",
            "Year: 2023\n"
          ]
        }
      ]
    },
    {
      "cell_type": "code",
      "source": [
        "# Q3. Explain the difference between instance methods and class methods. Provide an example of each\n",
        "# Instance Methods:\n",
        "\n",
        "# Definition: Instance methods are methods that operate on an instance of a class (an object). They have access to the instance's attributes and can modify them.\n",
        "# How to Define: They are defined within a class without any special decorators. The first parameter of an instance method is usually self, which refers to the instance itself.\n",
        "class Dog:\n",
        "    def __init__(self, name, breed):\n",
        "        self.name = name\n",
        "        self.breed = breed\n",
        "\n",
        "    def bark(self):\n",
        "        print(\"Woof!\")\n",
        "\n",
        "    def get_info(self):\n",
        "        print(f\"Name: {self.name}, Breed: {self.breed}\")\n",
        "\n",
        "# Create an instance of the Dog class\n",
        "my_dog = Dog(\"Buddy\", \"Labrador\")\n",
        "\n",
        "# Call instance methods\n",
        "my_dog.bark()  # Output: Woof!\n",
        "my_dog.get_info()  # Output: Name: Buddy, Breed: Labrador"
      ],
      "metadata": {
        "colab": {
          "base_uri": "https://localhost:8080/"
        },
        "id": "fwJz-jUoke30",
        "outputId": "05459e87-4fff-4552-9624-b60433515ef3"
      },
      "execution_count": null,
      "outputs": [
        {
          "output_type": "stream",
          "name": "stdout",
          "text": [
            "Woof!\n",
            "Name: Buddy, Breed: Labrador\n"
          ]
        }
      ]
    },
    {
      "cell_type": "code",
      "source": [
        "#Q4. How does Python implement method overloading? Give an example\n",
        "# Method Overloading (Traditional Sense):\n",
        "\n",
        "# In languages like Java and C++, method overloading allows you to define multiple methods with the same name but with different numbers or types of parameters. The correct method is chosen at compile time based on the arguments you provide when calling the method.\n",
        "# Python's Approach:\n",
        "\n",
        "# Python doesn't support traditional method overloading in the same way as those languages. If you define multiple methods with the same name in a class, the last definition will override the previous ones.\n",
        "# However, Python provides flexibility through dynamic typing and optional arguments.\n",
        "# Example using Optional Arguments:\n",
        "class Calculator:\n",
        "    def add(self, a, b=0, c=0):\n",
        "        \"\"\"Adds two or three numbers.\n",
        "\n",
        "        Args:\n",
        "            a: The first number.\n",
        "            b: The second number (optional, defaults to 0).\n",
        "            c: The third number (optional, defaults to 0).\n",
        "\n",
        "        Returns:\n",
        "            The sum of the numbers.\n",
        "        \"\"\"\n",
        "        return a + b + c\n",
        "\n",
        "# Example usage:\n",
        "calc = Calculator()\n",
        "print(calc.add(2, 3))  # Output: 5\n",
        "print(calc.add(2, 3, 4))  # Output: 9\n"
      ],
      "metadata": {
        "colab": {
          "base_uri": "https://localhost:8080/"
        },
        "id": "h7ywIpfFke0o",
        "outputId": "5ae36a38-2c43-4319-f9c3-1b27b4e7b590"
      },
      "execution_count": null,
      "outputs": [
        {
          "output_type": "stream",
          "name": "stdout",
          "text": [
            "5\n",
            "9\n"
          ]
        }
      ]
    },
    {
      "cell_type": "code",
      "source": [
        "  # Q5. What are the three types of access modifiers in Python? How are they denoted\n",
        "#   Access Modifiers:\n",
        "\n",
        "# In Python, access modifiers control the visibility and accessibility of class members (attributes and methods). While Python doesn't have strict access modifiers like public, private, and protected as in some other languages, it uses naming conventions to indicate the intended level of access.\n",
        "\n",
        "# Here are the three types of access modifiers in Python:\n",
        "\n",
        "# Public:\n",
        "\n",
        "# Denoted by: Normal naming (no underscores).\n",
        "# Accessibility: Public members are accessible from anywhere, both inside and outside the class.\n",
        "# Example: name, age, get_name(), set_age()\n",
        "# Protected:\n",
        "\n",
        "# Denoted by: Single underscore prefix (e.g., _name, _age).\n",
        "# Accessibility: Protected members are intended for internal use within the class and its subclasses. They are accessible from outside the class, but it's a convention to avoid accessing them directly.\n",
        "# Example: _name, _age, _get_name(), _set_age()\n",
        "# Private:\n",
        "\n",
        "# Denoted by: Double underscore prefix (e.g., __name, __age).\n",
        "# Accessibility: Private members are intended for internal use within the class only. They are not directly accessible from outside the class. Python uses name mangling to make it harder to access them accidentally.\n",
        "# Example: __name, __age, __get_name(), __set_age()\n",
        "# Name Mangling:\n",
        "\n",
        "# When you define a private member with a double underscore prefix, Python modifies the name internally to include the class name. This is called name mangling. It helps avoid accidental access to private members from outside the class, especially in inheritance scenarios.\n",
        "#example\n",
        "class MyClass:\n",
        "    def __init__(self):\n",
        "        self.__private_var = 42\n",
        "\n",
        "    def get_private_var(self):\n",
        "        return self.__private_var\n",
        "\n",
        "obj = MyClass()\n",
        "# print(obj.__private_var)  # This will raise an AttributeError\n",
        "print(obj.get_private_var())  # This will work\n",
        "\n",
        "\n"
      ],
      "metadata": {
        "colab": {
          "base_uri": "https://localhost:8080/"
        },
        "id": "Zm3k8a3YkexW",
        "outputId": "0c0d21b8-bc86-4e51-e62f-730572e44e42"
      },
      "execution_count": null,
      "outputs": [
        {
          "output_type": "stream",
          "name": "stdout",
          "text": [
            "42\n"
          ]
        }
      ]
    },
    {
      "cell_type": "code",
      "source": [
        "#.Q6 Describe the five types of inheritance in Python. Provide a simple example of multiple inheritance\n",
        "# Types of Inheritance:\n",
        "\n",
        "# Single Inheritance:\n",
        "\n",
        "# A class inherits from a single base class.\n",
        "# This is the simplest form of inheritance.\n",
        "# Multiple Inheritance:\n",
        "\n",
        "# A class inherits from multiple base classes.\n",
        "# It allows a class to combine functionalities from different sources.\n",
        "# Multilevel Inheritance:\n",
        "\n",
        "# A class inherits from a base class, which in turn inherits from another base class, forming a hierarchy.\n",
        "# It creates a chain of inheritance.\n",
        "# Hierarchical Inheritance:\n",
        "\n",
        "# Multiple classes inherit from a single base class.\n",
        "# It creates a tree-like structure of inheritance.\n",
        "# Hybrid Inheritance:\n",
        "\n",
        "# A combination of two or more types of inheritance.\n",
        "# It can involve single, multiple, multilevel, and hierarchical inheritance in various ways.\n",
        "# Simple Example of Multiple Inheritance:\n",
        "class Animal:\n",
        "    def __init__(self, name):\n",
        "        self.name = name\n",
        "\n",
        "    def speak(self):\n",
        "        print(\"Generic animal sound\")\n",
        "\n",
        "class Dog(Animal):\n",
        "    def speak(self):\n",
        "        print(\"Woof!\")\n",
        "\n",
        "class Cat(Animal):\n",
        "    def speak(self):\n",
        "        print(\"Meow!\")\n",
        "\n",
        "class DogCat(Dog, Cat):  # Multiple inheritance\n",
        "    pass\n",
        "\n",
        "# Create an instance of DogCat\n",
        "my_pet = DogCat(\"Buddy\")\n",
        "\n",
        "# Call the speak method\n",
        "my_pet.speak()  # Output: Woof! (Due to Method Resolution Order)\n",
        "# Explanation:\n",
        "\n",
        "# Animal is the base class with a speak method.\n",
        "# Dog and Cat inherit from Animal and override the speak method.\n",
        "# DogCat inherits from both Dog and Cat, demonstrating multiple inheritance.\n",
        "# When my_pet.speak() is called, the output is \"Woof!\" because Python's Method Resolution Order (MRO) prioritizes the Dog class over Cat in this case.\n",
        "# Method Resolution Order (MRO):\n",
        "\n",
        "# In multiple inheritance, the MRO determines the order in which Python searches for methods in the inheritance hierarchy.\n",
        "# It ensures that methods are called in a consistent and predictable manner.\n",
        "# You can retrieve the MRO of a class using ClassName.__mro__ or help(ClassName).\n"
      ],
      "metadata": {
        "colab": {
          "base_uri": "https://localhost:8080/"
        },
        "id": "Ig5TYyLYkeur",
        "outputId": "7336137a-fbd7-4c07-94dc-66e9a09f30a9"
      },
      "execution_count": null,
      "outputs": [
        {
          "output_type": "stream",
          "name": "stdout",
          "text": [
            "Woof!\n"
          ]
        }
      ]
    },
    {
      "cell_type": "markdown",
      "source": [],
      "metadata": {
        "id": "h5sbBknaoXol"
      }
    },
    {
      "cell_type": "code",
      "source": [
        "#Q7. What is the Method Resolution Order (MRO) in Python? How can you retrieve it programmatically?\n",
        "# Method Resolution Order (MRO):\n",
        "\n",
        "# Definition: The MRO is the order in which Python searches for methods in a class hierarchy during inheritance. It determines which method will be called when you invoke a method on an object.\n",
        "# Importance: The MRO is crucial in multiple inheritance scenarios, where a class can inherit from multiple base classes. It ensures that method calls are consistent and predictable, avoiding ambiguity.\n",
        "# Algorithm: Python uses the C3 linearization algorithm to determine the MRO. This algorithm ensures that:\n",
        "# Subclasses come before base classes.\n",
        "# Base classes are searched in the order they are listed in the class definition.\n",
        "# The MRO is monotonic (if class A appears before class B in the MRO of one class, it will also appear before B in the MRO of any subclass).\n",
        "# Retrieving the MRO Programmatically:\n",
        "\n",
        "# You can retrieve the MRO of a class in two ways:\n",
        "\n",
        "# Using __mro__ attribute:\n",
        "\n",
        "class A: pass\n",
        "class B(A): pass\n",
        "class C(A): pass\n",
        "class D(B, C): pass\n",
        "print(D.__mro__)\n",
        "   # Output: (<class '__main__.D'>, <class '__main__.B'>, <class '__main__.C'>, <class '__main__.A'>, <class 'object'>)"
      ],
      "metadata": {
        "colab": {
          "base_uri": "https://localhost:8080/"
        },
        "id": "uZJAlabFker1",
        "outputId": "de2e9358-7e67-4b89-e16d-3f304cbad8db"
      },
      "execution_count": null,
      "outputs": [
        {
          "output_type": "stream",
          "name": "stdout",
          "text": [
            "(<class '__main__.D'>, <class '__main__.B'>, <class '__main__.C'>, <class '__main__.A'>, <class 'object'>)\n"
          ]
        }
      ]
    },
    {
      "cell_type": "code",
      "source": [
        "#Q 8. Create an abstract base class `Shape` with an abstract method `area()`. Then create two subclasses\n",
        "#`Circle` and `Rectangle` that implement the `area()` method\n",
        "from abc import ABC, abstractmethod\n",
        "import math\n",
        "\n",
        "# Abstract base class\n",
        "class Shape(ABC):\n",
        "\n",
        "    @abstractmethod\n",
        "    def area(self):\n",
        "        pass\n",
        "\n",
        "# Subclass for Circle\n",
        "class Circle(Shape):\n",
        "    def __init__(self, radius):\n",
        "        self.radius = radius\n",
        "\n",
        "    def area(self):\n",
        "        return math.pi * (self.radius ** 2)\n",
        "\n",
        "# Subclass for Rectangle\n",
        "class Rectangle(Shape):\n",
        "    def __init__(self, width, height):\n",
        "        self.width = width\n",
        "        self.height = height\n",
        "\n",
        "    def area(self):\n",
        "        return self.width * self.height\n",
        "\n",
        "# Example usage\n",
        "if __name__ == \"__main__\":\n",
        "    circle = Circle(5)\n",
        "    rectangle = Rectangle(4, 6)\n",
        "\n",
        "    print(f\"Area of Circle: {circle.area():.2f}\")  # Outputs: Area of Circle: 78.54\n",
        "    print(f\"Area of Rectangle: {rectangle.area():.2f}\")  # Outputs: Area of Rectangle: 24.00\n"
      ],
      "metadata": {
        "colab": {
          "base_uri": "https://localhost:8080/"
        },
        "id": "GxWERuI1keo4",
        "outputId": "cf9a74b8-3f63-490c-88c4-02e7d94d0f91"
      },
      "execution_count": null,
      "outputs": [
        {
          "output_type": "stream",
          "name": "stdout",
          "text": [
            "Area of Circle: 78.54\n",
            "Area of Rectangle: 24.00\n"
          ]
        }
      ]
    },
    {
      "cell_type": "code",
      "source": [
        "#Q 9. Demonstrate polymorphism by creating a function that can work with different shape objects to calculate\n",
        "#and print their areas\n",
        "# To demonstrate polymorphism using the Shape, Circle, and Rectangle classes we defined earlier, we can create a function that takes a Shape object and calls the area() method on it. This function will work with any object that is a subclass of Shape, allowing us to calculate and print the area for different shape objects.\n",
        "\n",
        "# Below is the Python code illustrating this concept:\n",
        "from abc import ABC, abstractmethod\n",
        "import math\n",
        "\n",
        "# Abstract base class\n",
        "class Shape(ABC):\n",
        "\n",
        "    @abstractmethod\n",
        "    def area(self):\n",
        "        pass\n",
        "\n",
        "# Subclass for Circle\n",
        "class Circle(Shape):\n",
        "    def __init__(self, radius):\n",
        "        self.radius = radius\n",
        "\n",
        "    def area(self):\n",
        "        return math.pi * (self.radius ** 2)\n",
        "\n",
        "# Subclass for Rectangle\n",
        "class Rectangle(Shape):\n",
        "    def __init__(self, width, height):\n",
        "        self.width = width\n",
        "        self.height = height\n",
        "\n",
        "    def area(self):\n",
        "        return self.width * self.height\n",
        "\n",
        "# Function to calculate and print area\n",
        "def print_area(shape: Shape):\n",
        "    print(f\"The area of the shape is: {shape.area():.2f}\")\n",
        "\n",
        "# Example usage\n",
        "if __name__ == \"__main__\":\n",
        "    circle = Circle(5)\n",
        "    rectangle = Rectangle(4, 6)\n",
        "\n",
        "    print_area(circle)      # Outputs: The area of the shape is: 78.54\n",
        "    print_area(rectangle)   # Outputs: The area of the shape is: 24.00\n",
        "\n"
      ],
      "metadata": {
        "colab": {
          "base_uri": "https://localhost:8080/"
        },
        "id": "0DXV_VmMkemD",
        "outputId": "c19cd229-6177-475f-e8cb-da37b4c92a75"
      },
      "execution_count": null,
      "outputs": [
        {
          "output_type": "stream",
          "name": "stdout",
          "text": [
            "The area of the shape is: 78.54\n",
            "The area of the shape is: 24.00\n"
          ]
        }
      ]
    },
    {
      "cell_type": "code",
      "source": [
        "#Q10. Implement encapsulation in a `BankAccount` class with private attributes for `balance` and\n",
        "#`account_number`. Include methods for deposit, withdrawal, and balance inquiry.\n",
        "class BankAccount:\n",
        "    def __init__(self, account_number, initial_balance=0):\n",
        "        self.__account_number = account_number\n",
        "        self.__balance = initial_balance\n",
        "\n",
        "    def deposit(self, amount):\n",
        "        \"\"\"Deposit money into the account.\"\"\"\n",
        "        if amount <= 0:\n",
        "            raise ValueError(\"Deposit amount must be positive.\")\n",
        "        self.__balance += amount\n",
        "        print(f\"Deposited: ${amount:.2f}. New balance: ${self.__balance:.2f}\")\n",
        "\n",
        "    def withdraw(self, amount):\n",
        "        \"\"\"Withdraw money from the account.\"\"\"\n",
        "        if amount <= 0:\n",
        "            raise ValueError(\"Withdrawal amount must be positive.\")\n",
        "        if amount > self.__balance:\n",
        "            raise ValueError(\"Insufficient funds.\")\n",
        "        self.__balance -= amount\n",
        "        print(f\"Withdrew: ${amount:.2f}. New balance: ${self.__balance:.2f}\")\n",
        "\n",
        "    def get_balance(self):\n",
        "        \"\"\"Return the current balance.\"\"\"\n",
        "        return self.__balance\n",
        "\n",
        "    def get_account_number(self):\n",
        "        \"\"\"Return the account number.\"\"\"\n",
        "        return self.__account_number\n",
        "\n",
        "# Example usage\n",
        "if __name__ == \"__main__\":\n",
        "    account = BankAccount(\"123456789\", 1000)\n",
        "\n",
        "    # Print initial balance\n",
        "    print(f\"Account Number: {account.get_account_number()}\")\n",
        "    print(f\"Initial Balance: ${account.get_balance():.2f}\")\n",
        "\n",
        "    # Perform operations\n",
        "    account.deposit(200)               # Deposit money\n",
        "    account.withdraw(50)               # Withdraw money\n",
        "\n",
        "    # Check final balance\n",
        "    print(f\"Final Balance: ${account.get_balance():.2f}\")\n",
        "\n",
        "    try:\n",
        "        account.withdraw(1200)          # Attempt to withdraw more than balance\n",
        "    except ValueError as e:\n",
        "        print(e)  # Should print \"Insufficient funds.\"\n"
      ],
      "metadata": {
        "colab": {
          "base_uri": "https://localhost:8080/"
        },
        "id": "uQ5mV-Sdkegr",
        "outputId": "500123d9-9c07-4bc3-843e-b4cbc6617850"
      },
      "execution_count": null,
      "outputs": [
        {
          "output_type": "stream",
          "name": "stdout",
          "text": [
            "Account Number: 123456789\n",
            "Initial Balance: $1000.00\n",
            "Deposited: $200.00. New balance: $1200.00\n",
            "Withdrew: $50.00. New balance: $1150.00\n",
            "Final Balance: $1150.00\n",
            "Insufficient funds.\n"
          ]
        }
      ]
    },
    {
      "cell_type": "code",
      "source": [
        "#Q 11. Write a class that overrides the `__str__` and `__add__` magic methods. What will these methods allow\n",
        "#you to do\n",
        "class Vector:\n",
        "    def __init__(self, x, y):\n",
        "        self.x = x\n",
        "        self.y = y\n",
        "\n",
        "    def __str__(self):\n",
        "        \"\"\"Provide a string representation of the Vector.\"\"\"\n",
        "        return f\"Vector({self.x}, {self.y})\"\n",
        "\n",
        "    def __add__(self, other):\n",
        "        \"\"\"Allow addition of two Vector instances.\"\"\"\n",
        "        if isinstance(other, Vector):\n",
        "            return Vector(self.x + other.x, self.y + other.y)\n",
        "        return NotImplemented\n",
        "\n",
        "# Example usage\n",
        "if __name__ == \"__main__\":\n",
        "    v1 = Vector(2, 3)\n",
        "    v2 = Vector(5, 7)\n",
        "\n",
        "    # Print Vector instances\n",
        "    print(v1)  # Outputs: Vector(2, 3)\n",
        "    print(v2)  # Outputs: Vector(5, 7)\n",
        "\n",
        "    # Add Vector instances\n",
        "    v3 = v1 + v2\n",
        "    print(v3)  # Outputs: Vector(7, 10)\n",
        "\n"
      ],
      "metadata": {
        "colab": {
          "base_uri": "https://localhost:8080/"
        },
        "id": "zRWy3hYuked4",
        "outputId": "4b7b046e-8841-40f2-a714-db8fa22197bd"
      },
      "execution_count": null,
      "outputs": [
        {
          "output_type": "stream",
          "name": "stdout",
          "text": [
            "Vector(2, 3)\n",
            "Vector(5, 7)\n",
            "Vector(7, 10)\n"
          ]
        }
      ]
    },
    {
      "cell_type": "code",
      "source": [
        "#Q 12. Create a decorator that measures and prints the execution time of a function\n",
        "import time\n",
        "from functools import wraps\n",
        "\n",
        "def time_it(func):\n",
        "    @wraps(func)  # Preserve function metadata\n",
        "    def wrapper(*args, **kwargs):\n",
        "        start_time = time.time()  # Record the start time\n",
        "        result = func(*args, **kwargs)  # Call the original function\n",
        "        end_time = time.time()  # Record the end time\n",
        "        execution_time = end_time - start_time  # Calculate the execution time\n",
        "        print(f\"Execution time of '{func.__name__}': {execution_time:.4f} seconds\")\n",
        "        return result  # Return the result of the original function\n",
        "    return wrapper\n",
        "\n",
        "# Example usage\n",
        "@time_it\n",
        "def example_function(n):\n",
        "    \"\"\"A simple function that computes the sum of the first n numbers.\"\"\"\n",
        "    return sum(range(n))\n",
        "\n",
        "if __name__ == \"__main__\":\n",
        "    result = example_function(1000000)  # Call the function\n",
        "    print(f\"Result: {result}\")  # Print the result of the function\n"
      ],
      "metadata": {
        "colab": {
          "base_uri": "https://localhost:8080/"
        },
        "id": "XKnal0EGkeax",
        "outputId": "51d88ad8-4ce9-4ec4-de5a-a8b769f73e38"
      },
      "execution_count": null,
      "outputs": [
        {
          "output_type": "stream",
          "name": "stdout",
          "text": [
            "Execution time of 'example_function': 0.0204 seconds\n",
            "Result: 499999500000\n"
          ]
        }
      ]
    },
    {
      "cell_type": "code",
      "source": [
        "# Q13. Explain the concept of the Diamond Problem in multiple inheritance. How does Python resolve it\n",
        "# The Diamond Problem is a classic issue in object-oriented programming that arises in the context of multiple inheritance. To explain this concept, let's break it down step-by-step.\n",
        "\n",
        "# What is the Diamond Problem?\n",
        "# Consider a scenario where you have a class hierarchy structured like a diamond:\n",
        "    #   A\n",
        "    #  / \\\n",
        "    # B   C\n",
        "    #  \\ /\n",
        "    #   D\n",
        "#     In this example:\n",
        "\n",
        "# Class A is the base class.\n",
        "# Classes B and C inherit from A.\n",
        "# Class D inherits from both B and C.\n",
        "# The potential issue arises when class D tries to access a method or attribute defined in class A. Since there are two paths (through either B or C) to reach A, it can be ambiguous which path should be taken. This leads to questions such as:\n",
        "\n",
        "# Should D use the method from B or the method from C?\n",
        "# If both B and C override a method from A, which version should D see?\n",
        "# How Does Python Resolve the Diamond Problem?\n",
        "# Python uses a method resolution order (MRO) algorithm to handle the Diamond Problem, specifically through a technique called C3 Linearization. Here's how it works:\n",
        "\n",
        "# MRO Definition: The MRO determines the order in which classes are looked up when searching for a method or attribute. You can view the MRO of any class using the mro() method or the __mro__ attribute.\n",
        "\n",
        "# C3 Linearization: The MRO is computed in a way that follows these rules:\n",
        "\n",
        "# It maintains the order of parents as specified in the class definition.\n",
        "# It ensures that a class appears before any of its bases.\n",
        "# It ensures that, if a class is present in multiple inheritance paths, it will only appear once in the final MRO.\n",
        "# Here’s an example demonstrating these concepts\n",
        "class A:\n",
        "    def hello(self):\n",
        "        print(\"Hello from A\")\n",
        "\n",
        "class B(A):\n",
        "    def hello(self):\n",
        "        print(\"Hello from B\")\n",
        "\n",
        "class C(A):\n",
        "    def hello(self):\n",
        "        print(\"Hello from C\")\n",
        "\n",
        "class D(B, C):\n",
        "    pass\n",
        "\n",
        "# Checking MRO of class D\n",
        "print(D.mro())\n",
        "# Output: [<class '__main__.D'>, <class '__main__.B'>, <class '__main__.C'>, <class '__main__.A'>, <class 'object'>]\n",
        "\n",
        "# Creating an instance of D and calling hello\n",
        "d = D()\n",
        "d.hello()  # Output: Hello from B\n",
        "\n",
        "\n",
        "\n",
        "\n"
      ],
      "metadata": {
        "colab": {
          "base_uri": "https://localhost:8080/"
        },
        "id": "n0UifsX8keX9",
        "outputId": "aae8d187-bb52-4248-ccd1-c1ce37f4e1fb"
      },
      "execution_count": null,
      "outputs": [
        {
          "output_type": "stream",
          "name": "stdout",
          "text": [
            "[<class '__main__.D'>, <class '__main__.B'>, <class '__main__.C'>, <class '__main__.A'>, <class 'object'>]\n",
            "Hello from B\n"
          ]
        }
      ]
    },
    {
      "cell_type": "code",
      "source": [
        "# Q14. Write a class method that keeps track of the number of instances created from a class\n",
        "class InstanceCounter:\n",
        "    # Class variable to keep track of the number of instances\n",
        "    _instance_count = 0\n",
        "\n",
        "    def __init__(self):\n",
        "        # Increment the instance count each time a new instance is created\n",
        "        InstanceCounter._instance_count += 1\n",
        "\n",
        "    @classmethod\n",
        "    def get_instance_count(cls):\n",
        "        \"\"\"Class method to return the current instance count.\"\"\"\n",
        "        return cls._instance_count\n",
        "\n",
        "\n",
        "# Example usage\n",
        "if __name__ == \"__main__\":\n",
        "    print(\"Number of instances:\", InstanceCounter.get_instance_count())  # Outputs: 0\n",
        "\n",
        "    # Create instances of InstanceCounter\n",
        "    instance1 = InstanceCounter()\n",
        "    instance2 = InstanceCounter()\n",
        "\n",
        "    # Check the instance count again\n",
        "    print(\"Number of instances after creating two instances:\", InstanceCounter.get_instance_count())  # Outputs: 2\n",
        "\n",
        "    instance3 = InstanceCounter()\n",
        "    print(\"Number of instances after creating one more instance:\", InstanceCounter.get_instance_count())  # Outputs: 3\n"
      ],
      "metadata": {
        "colab": {
          "base_uri": "https://localhost:8080/"
        },
        "id": "uY_KXutukeOS",
        "outputId": "b654d038-2ac8-4d2b-c5aa-4800e41093e8"
      },
      "execution_count": null,
      "outputs": [
        {
          "output_type": "stream",
          "name": "stdout",
          "text": [
            "Number of instances: 0\n",
            "Number of instances after creating two instances: 2\n",
            "Number of instances after creating one more instance: 3\n"
          ]
        }
      ]
    },
    {
      "cell_type": "code",
      "source": [
        "# Q15. Implement a static method in a class that checks if a given year is a leap year\n",
        "class LeapYearChecker:\n",
        "\n",
        "    @staticmethod\n",
        "    def is_leap_year(year):\n",
        "        \"\"\"Checks if a given year is a leap year.\n",
        "\n",
        "        Args:\n",
        "            year: The year to check.\n",
        "\n",
        "        Returns:\n",
        "            True if the year is a leap year, False otherwise.\n",
        "        \"\"\"\n",
        "        if year % 4 != 0:\n",
        "            return False\n",
        "        elif year % 100 == 0 and year % 400 != 0:\n",
        "            return False\n",
        "        else:\n",
        "            return True\n",
        "\n",
        "# Example usage:\n",
        "year = 2024\n",
        "if LeapYearChecker.is_leap_year(year):\n",
        "    print(f\"{year} is a leap year\")\n",
        "else:\n",
        "    print(f\"{year} is not a leap year\")"
      ],
      "metadata": {
        "colab": {
          "base_uri": "https://localhost:8080/"
        },
        "id": "Yk2g5CjNkeLo",
        "outputId": "0e4e9fe8-1466-4da9-faf3-51da143aefdb"
      },
      "execution_count": null,
      "outputs": [
        {
          "output_type": "stream",
          "name": "stdout",
          "text": [
            "2024 is a leap year\n"
          ]
        }
      ]
    },
    {
      "source": [
        "!git init"
      ],
      "cell_type": "code",
      "metadata": {
        "colab": {
          "base_uri": "https://localhost:8080/"
        },
        "id": "vc91uUSs75m-",
        "outputId": "d2dd84f1-2701-4ebc-d67b-c2a372ea9dd9"
      },
      "execution_count": 18,
      "outputs": [
        {
          "output_type": "stream",
          "name": "stdout",
          "text": [
            "\u001b[33mhint: Using 'master' as the name for the initial branch. This default branch name\u001b[m\n",
            "\u001b[33mhint: is subject to change. To configure the initial branch name to use in all\u001b[m\n",
            "\u001b[33mhint: of your new repositories, which will suppress this warning, call:\u001b[m\n",
            "\u001b[33mhint: \u001b[m\n",
            "\u001b[33mhint: \tgit config --global init.defaultBranch <name>\u001b[m\n",
            "\u001b[33mhint: \u001b[m\n",
            "\u001b[33mhint: Names commonly chosen instead of 'master' are 'main', 'trunk' and\u001b[m\n",
            "\u001b[33mhint: 'development'. The just-created branch can be renamed via this command:\u001b[m\n",
            "\u001b[33mhint: \u001b[m\n",
            "\u001b[33mhint: \tgit branch -m <name>\u001b[m\n",
            "Initialized empty Git repository in /content/.git/\n"
          ]
        }
      ]
    },
    {
      "cell_type": "code",
      "source": [
        "\n"
      ],
      "metadata": {
        "id": "irFbcvCrkd_K"
      },
      "execution_count": null,
      "outputs": []
    },
    {
      "cell_type": "code",
      "source": [],
      "metadata": {
        "id": "hry9aGNRkd8f"
      },
      "execution_count": null,
      "outputs": []
    },
    {
      "cell_type": "code",
      "source": [],
      "metadata": {
        "id": "Du3uxfeekd5e"
      },
      "execution_count": null,
      "outputs": []
    },
    {
      "cell_type": "code",
      "source": [],
      "metadata": {
        "id": "K09Cr2XekdZE"
      },
      "execution_count": null,
      "outputs": []
    }
  ]
}